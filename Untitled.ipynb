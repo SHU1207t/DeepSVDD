{
 "cells": [
  {
   "cell_type": "code",
   "execution_count": 30,
   "id": "c97e32d3",
   "metadata": {},
   "outputs": [],
   "source": [
    "import os\n",
    "import sys\n",
    "import csv\n",
    "sys.path.append(\"..\")\n",
    "import numpy as np\n",
    "import matplotlib.pyplot as plt\n",
    "import tensorflow as tf\n",
    "import keras\n",
    "import glob\n",
    "import math\n",
    "import cv2\n",
    "import sklearn\n",
    "# from keras import layers\n",
    "from sklearn.model_selection import train_test_split\n",
    "# from keras.layers import Lambda, Input, Dense\n",
    "# from keras.models import Model\n",
    "# from keras.losses import mse\n",
    "# from keras import backend as K\n",
    "# from keras import models\n",
    "from sklearn.svm import OneClassSVM\n",
    "from deep_svdd import BaseSVDD\n",
    "# from scipy.spatial import distance\n",
    "# from sklearn.metrics import DistanceMetric\n",
    "from tensorflow.keras.models import Sequential\n",
    "from tensorflow.keras.layers import Dense, GlobalAveragePooling2D, UpSampling2D, Conv2D, Conv2DTranspose, MaxPooling2D\n",
    "from tensorflow.keras import optimizers\n",
    "from efficientnet.tfkeras import EfficientNetB2"
   ]
  },
  {
   "cell_type": "code",
   "execution_count": 41,
   "id": "3ac3a8c8",
   "metadata": {},
   "outputs": [
    {
     "name": "stdout",
     "output_type": "stream",
     "text": [
      "CPU times: total: 13.5 s\n",
      "Wall time: 15.4 s\n"
     ]
    }
   ],
   "source": [
    "%%time\n",
    "X_list = glob.glob('bottle/train/good/*.png')\n",
    "Y_list1 = glob.glob('bottle/test/broken_large/*.png')\n",
    "Y_list2 = glob.glob('bottle/test/broken_small/*.png')\n",
    "Y_list3 = glob.glob('bottle/test/contamination/*.png')\n",
    "Y_list4 = glob.glob('bottle/test/good/*.png')\n",
    "X_train = None\n",
    "X_test_good = None\n",
    "X_test_error = None\n",
    "for X_file in X_list:\n",
    "  im = cv2.imread(X_file)\n",
    "  im = cv2.cvtColor(im, cv2.COLOR_BGR2RGB)\n",
    "  im = cv2.resize(im, (256,256))\n",
    "  im = im.reshape(1,im.shape[0],im.shape[1],im.shape[2])\n",
    "  if X_train is not None:\n",
    "    X_train = np.concatenate((X_train, im))\n",
    "  if X_train is None:\n",
    "    X_train = im\n",
    "\n",
    "for Y_file in Y_list1:\n",
    "  im = cv2.imread(Y_file)\n",
    "  im = cv2.cvtColor(im, cv2.COLOR_BGR2RGB)\n",
    "  im = cv2.resize(im, (256,256))\n",
    "  im = im.reshape(1,im.shape[0],im.shape[1],im.shape[2])\n",
    "  if X_test_error is not None:\n",
    "    X_test_error = np.concatenate((X_test_error, im))\n",
    "  if X_test_error is None:\n",
    "    X_test_error = im\n",
    "\n",
    "for Y_file in Y_list2:\n",
    "  im = cv2.imread(Y_file)\n",
    "  im = cv2.cvtColor(im, cv2.COLOR_BGR2RGB)\n",
    "  im = cv2.resize(im, (256,256))\n",
    "  im = im.reshape(1,im.shape[0],im.shape[1],im.shape[2])\n",
    "  if X_test_error is not None:\n",
    "    X_test_error = np.concatenate((X_test_error, im))\n",
    "  if X_test_error is None:\n",
    "    X_test_error = im\n",
    "\n",
    "for Y_file in Y_list3:\n",
    "  im = cv2.imread(Y_file)\n",
    "  im = cv2.cvtColor(im, cv2.COLOR_BGR2RGB)\n",
    "  im = cv2.resize(im, (256,256))\n",
    "  im = im.reshape(1,im.shape[0],im.shape[1],im.shape[2])\n",
    "  if X_test_error is not None:\n",
    "    X_test_error = np.concatenate((X_test_error, im))\n",
    "  if X_test_error is None:\n",
    "    X_test_error = im\n",
    "\n",
    "for Y_file in Y_list4:\n",
    "  im = cv2.imread(Y_file)\n",
    "  im = cv2.cvtColor(im, cv2.COLOR_BGR2RGB)\n",
    "  im = cv2.resize(im, (256,256))\n",
    "  im = im.reshape(1,im.shape[0],im.shape[1],im.shape[2])\n",
    "  if X_test_good is not None:\n",
    "    X_test_good = np.concatenate((X_test_good, im))\n",
    "  if X_test_good is None:\n",
    "    X_test_good = im\n",
    "    \n",
    "X_train = X_train/255\n",
    "X_test_good = X_test_good/255\n",
    "X_test_error = X_test_error/255\n",
    "x_train, x_test = train_test_split(X_train, test_size=0.9)\n",
    "X_test = np.concatenate([X_test_good, X_test_error])"
   ]
  },
  {
   "cell_type": "code",
   "execution_count": 42,
   "id": "baaa6cd9",
   "metadata": {},
   "outputs": [
    {
     "data": {
      "text/plain": [
       "(20, 256, 256, 3)"
      ]
     },
     "execution_count": 42,
     "metadata": {},
     "output_type": "execute_result"
    }
   ],
   "source": [
    "x_train.shape"
   ]
  },
  {
   "cell_type": "code",
   "execution_count": 39,
   "id": "3455d669",
   "metadata": {},
   "outputs": [
    {
     "name": "stdout",
     "output_type": "stream",
     "text": [
      "Model: \"sequential_17\"\n",
      "_________________________________________________________________\n",
      " Layer (type)                Output Shape              Param #   \n",
      "=================================================================\n",
      " efficientnet-b2 (Functional  (None, 8, 8, 1408)       7768562   \n",
      " )                                                               \n",
      "                                                                 \n",
      " conv2d_38 (Conv2D)          (None, 8, 8, 64)          811072    \n",
      "                                                                 \n",
      " max_pooling2d_6 (MaxPooling  (None, 4, 4, 64)         0         \n",
      " 2D)                                                             \n",
      "                                                                 \n",
      " conv2d_39 (Conv2D)          (None, 4, 4, 16)          9232      \n",
      "                                                                 \n",
      " up_sampling2d_15 (UpSamplin  (None, 8, 8, 16)         0         \n",
      " g2D)                                                            \n",
      "                                                                 \n",
      " conv2d_40 (Conv2D)          (None, 8, 8, 64)          9280      \n",
      "                                                                 \n",
      " conv2d_41 (Conv2D)          (None, 8, 8, 1408)        812416    \n",
      "                                                                 \n",
      " up_sampling2d_16 (UpSamplin  (None, 16, 16, 1408)     0         \n",
      " g2D)                                                            \n",
      "                                                                 \n",
      " conv2d_transpose_6 (Conv2DT  (None, 32, 32, 16)       202768    \n",
      " ranspose)                                                       \n",
      "                                                                 \n",
      " up_sampling2d_17 (UpSamplin  (None, 64, 64, 16)       0         \n",
      " g2D)                                                            \n",
      "                                                                 \n",
      " conv2d_transpose_7 (Conv2DT  (None, 128, 128, 64)     9280      \n",
      " ranspose)                                                       \n",
      "                                                                 \n",
      " up_sampling2d_18 (UpSamplin  (None, 256, 256, 64)     0         \n",
      " g2D)                                                            \n",
      "                                                                 \n",
      " conv2d_42 (Conv2D)          (None, 256, 256, 3)       1731      \n",
      "                                                                 \n",
      "=================================================================\n",
      "Total params: 9,624,341\n",
      "Trainable params: 9,556,773\n",
      "Non-trainable params: 67,568\n",
      "_________________________________________________________________\n"
     ]
    }
   ],
   "source": [
    "model = Sequential()\n",
    "model.add(EfficientNetB2(include_top=False,weights='imagenet',input_shape=(256,256,3)))\n",
    "model.add(Conv2D(64, kernel_size=(3, 3),activation='relu', padding='same'))\n",
    "model.add(MaxPooling2D(pool_size=(2, 2), padding='same'))\n",
    "model.add(Conv2D(16, kernel_size=(3, 3),activation='relu', padding='same'))\n",
    "\n",
    "model.add(UpSampling2D(size=(2, 2)))\n",
    "model.add(Conv2D(64, kernel_size=(3, 3),activation='relu', padding='same'))\n",
    "model.add(Conv2D(1408, kernel_size=(3, 3),activation='relu', padding='same'))\n",
    "model.add(UpSampling2D(size=(2, 2)))\n",
    "model.add(Conv2DTranspose(16, kernel_size=(3, 3),activation='relu', padding='same',strides=2))\n",
    "model.add(UpSampling2D(size=(2, 2)))\n",
    "model.add(Conv2DTranspose(64, kernel_size=(3, 3),activation='relu', padding='same',strides=2))\n",
    "model.add(UpSampling2D(size=(2, 2)))\n",
    "model.add(Conv2D(3, kernel_size=(3, 3),activation='sigmoid', padding='same'))\n",
    "model.compile(optimizer=optimizers.Adam(learning_rate=1e-4), loss=\"categorical_crossentropy\", metrics=[\"accuracy\"])\n",
    "model.summary()"
   ]
  },
  {
   "cell_type": "code",
   "execution_count": null,
   "id": "54df809d",
   "metadata": {},
   "outputs": [
    {
     "name": "stdout",
     "output_type": "stream",
     "text": [
      "Epoch 1/30\n",
      "2/2 [==============================] - 121s 53s/step - loss: 1.7739 - accuracy: 0.3657 - val_loss: 1.7735 - val_accuracy: 0.3885\n",
      "Epoch 2/30\n",
      "2/2 [==============================] - 56s 44s/step - loss: 1.7739 - accuracy: 0.3967 - val_loss: 1.7736 - val_accuracy: 0.4095\n",
      "Epoch 3/30\n",
      "2/2 [==============================] - 54s 44s/step - loss: 1.7742 - accuracy: 0.4182 - val_loss: 1.7737 - val_accuracy: 0.4260\n",
      "Epoch 4/30\n",
      "2/2 [==============================] - 54s 44s/step - loss: 1.7764 - accuracy: 0.4347 - val_loss: 1.7739 - val_accuracy: 0.4343\n",
      "Epoch 5/30\n",
      "2/2 [==============================] - 38s 28s/step - loss: 1.7849 - accuracy: 0.4431 - val_loss: 1.7747 - val_accuracy: 0.4350\n",
      "Epoch 6/30\n",
      "2/2 [==============================] - 37s 28s/step - loss: 1.8119 - accuracy: 0.4415 - val_loss: 1.7764 - val_accuracy: 0.4310\n",
      "Epoch 7/30\n",
      "2/2 [==============================] - 37s 28s/step - loss: 1.8715 - accuracy: 0.4338 - val_loss: 1.7805 - val_accuracy: 0.4246\n",
      "Epoch 8/30\n",
      "2/2 [==============================] - 38s 28s/step - loss: 1.9781 - accuracy: 0.4283 - val_loss: 1.7892 - val_accuracy: 0.4184\n",
      "Epoch 9/30\n",
      "2/2 [==============================] - 36s 28s/step - loss: 2.1615 - accuracy: 0.4226 - val_loss: 1.8082 - val_accuracy: 0.4122\n",
      "Epoch 10/30\n",
      "2/2 [==============================] - 52s 44s/step - loss: 2.4285 - accuracy: 0.4171 - val_loss: 1.8505 - val_accuracy: 0.4043\n",
      "Epoch 11/30\n",
      "2/2 [==============================] - 52s 44s/step - loss: 2.7941 - accuracy: 0.4053 - val_loss: 1.9496 - val_accuracy: 0.3939\n",
      "Epoch 12/30\n",
      "2/2 [==============================] - 37s 28s/step - loss: 3.3621 - accuracy: 0.3941 - val_loss: 2.1601 - val_accuracy: 0.3853\n",
      "Epoch 13/30\n",
      "2/2 [==============================] - 37s 28s/step - loss: 4.3090 - accuracy: 0.3858 - val_loss: 2.5481 - val_accuracy: 0.3780\n",
      "Epoch 14/30\n",
      "2/2 [==============================] - 37s 28s/step - loss: 5.4939 - accuracy: 0.3783 - val_loss: 3.2079 - val_accuracy: 0.3692\n",
      "Epoch 15/30\n",
      "2/2 [==============================] - 53s 44s/step - loss: 6.9046 - accuracy: 0.3697 - val_loss: 4.3386 - val_accuracy: 0.3603\n",
      "Epoch 16/30\n",
      "2/2 [==============================] - ETA: 0s - loss: 9.0641 - accuracy: 0.3597"
     ]
    }
   ],
   "source": [
    "model.fit(x_train, x_train,epochs=30,batch_size=16,shuffle=True,validation_data=(x_test, x_test))"
   ]
  },
  {
   "cell_type": "code",
   "execution_count": null,
   "id": "194bba94",
   "metadata": {},
   "outputs": [],
   "source": []
  }
 ],
 "metadata": {
  "kernelspec": {
   "display_name": "Python 3 (ipykernel)",
   "language": "python",
   "name": "python3"
  },
  "language_info": {
   "codemirror_mode": {
    "name": "ipython",
    "version": 3
   },
   "file_extension": ".py",
   "mimetype": "text/x-python",
   "name": "python",
   "nbconvert_exporter": "python",
   "pygments_lexer": "ipython3",
   "version": "3.9.12"
  }
 },
 "nbformat": 4,
 "nbformat_minor": 5
}
